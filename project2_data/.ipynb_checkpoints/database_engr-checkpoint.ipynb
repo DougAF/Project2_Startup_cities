{
 "cells": [
  {
   "cell_type": "markdown",
   "metadata": {},
   "source": [
    "# Database setup - Project 2\n"
   ]
  },
  {
   "cell_type": "code",
   "execution_count": 2,
   "metadata": {},
   "outputs": [],
   "source": [
    "# Imports\n",
    "import pandas as pd\n",
    "import sqlalchemy\n",
    "from sqlalchemy import create_engine, MetaData\n",
    "from sqlalchemy.ext.declarative import declarative_base\n",
    "from sqlalchemy import Column, Integer, String, Numeric, Text, Float, ForeignKey\n",
    "from sqlalchemy.orm import sessionmaker, relationship\n"
   ]
  },
  {
   "cell_type": "code",
   "execution_count": 3,
   "metadata": {},
   "outputs": [],
   "source": [
    "# Create Engine\n",
    "engine = create_engine(\"sqlite:///p2_cities.sqlite\")\n",
    "\n",
    "# Use `declarative_base` from SQLAlchemy to model the city table as an ORM class\n",
    "# Make sure to specify types for each column\n",
    "# Declare a Base object here\n",
    "Base = declarative_base()\n"
   ]
  },
  {
   "cell_type": "code",
   "execution_count": 4,
   "metadata": {},
   "outputs": [],
   "source": [
    "# Define the ORM class or `Cities`\n",
    "### BEGIN SOLUTION\n",
    "class Cities(Base):\n",
    "    \n",
    "    __tablename__ = 'cities'\n",
    "\n",
    "    id = Column(Integer, primary_key=True)\n",
    "    city = Column(Text)\n",
    "    state_name = Column(Text)\n",
    "    population = Column(Float)\n",
    "    lat = Column(Float)\n",
    "    lng = Column(Float)\n",
    "    #date = Column(Text)\n",
    "    #avg_edu = Column(Float)\n",
    "    #avg_income_pc = Column(Float)\n",
    "    #total_college_students = Column(Float)\n",
    "    #crime_rate_per_100000 = Column(Float)\n",
    "    \n",
    "    def __repr__(self):\n",
    "        return f\"id={self.id}, name={self.name}\""
   ]
  },
  {
   "cell_type": "code",
   "execution_count": 5,
   "metadata": {},
   "outputs": [],
   "source": [
    "#use create all to create the table \n",
    "\n",
    "Base.metadata.create_all(engine)\n"
   ]
  },
  {
   "cell_type": "code",
   "execution_count": 6,
   "metadata": {},
   "outputs": [
    {
     "data": {
      "text/plain": [
       "['cities']"
      ]
     },
     "execution_count": 6,
     "metadata": {},
     "output_type": "execute_result"
    }
   ],
   "source": [
    "# Verify that the table name exists in the database\n",
    "engine.table_names()"
   ]
  },
  {
   "cell_type": "code",
   "execution_count": 7,
   "metadata": {},
   "outputs": [],
   "source": [
    "# Use Pandas to Bulk insert each CSV file into the table\n",
    "def populate_table(engine, table, csvfile):\n",
    "    \"\"\"Populates a table from a Pandas DataFrame.\"\"\"\n",
    "    # connect to the database\n",
    "    conn = engine.connect()\n",
    "    \n",
    "    # Load the CSV file into a pandas dataframe \n",
    "    df_to_insert = pd.read_csv(csvfile)\n",
    "    \n",
    "    # Orient='records' creates a list of data to write\n",
    "    # http://pandas-docs.github.io/pandas-docs-travis/io.html#orient-options\n",
    "    #orient = to columns or records better for our needs?\n",
    "    data = df_to_insert.to_dict(orient='records')\n",
    "\n",
    "    # Optional: Delete all rows in the table \n",
    "    conn.execute(table.delete())#NEEDED OR NOT?\n",
    "\n",
    "    # Insert the dataframe into the database in one bulk insert\n",
    "    conn.execute(table.insert(), data)\n",
    "    \n",
    "# Call the function to insert the data for each table\n",
    "populate_table(engine, Cities.__table__, 'cities.csv')\n"
   ]
  },
  {
   "cell_type": "code",
   "execution_count": 8,
   "metadata": {},
   "outputs": [
    {
     "data": {
      "text/plain": [
       "[(1840034016, 'New York', 'New York', 19354922.0, 40.6943, -73.9249)]"
      ]
     },
     "execution_count": 8,
     "metadata": {},
     "output_type": "execute_result"
    }
   ],
   "source": [
    "# Use a basic query to validate that the data was inserted correctly for table 'cities'\n",
    "\n",
    "engine.execute(\"SELECT * FROM cities WHERE population > 100000 ORDER BY population DESC LIMIT 1\").fetchall()"
   ]
  },
  {
   "cell_type": "code",
   "execution_count": 9,
   "metadata": {},
   "outputs": [],
   "source": [
    "#This CSV is serving as our dummy DATA"
   ]
  },
  {
   "cell_type": "code",
   "execution_count": 10,
   "metadata": {},
   "outputs": [],
   "source": [
    "df = pd.DataFrame(engine.execute(\"SELECT * FROM cities ORDER BY population DESC LIMIT 100\").fetchall())"
   ]
  },
  {
   "cell_type": "code",
   "execution_count": 11,
   "metadata": {},
   "outputs": [],
   "source": [
    "df.columns = [\"id\", \"city_name\", \"state\", \"pop\",\"lat\", \"lng\"] \n"
   ]
  },
  {
   "cell_type": "code",
   "execution_count": 12,
   "metadata": {},
   "outputs": [
    {
     "data": {
      "text/plain": [
       "38"
      ]
     },
     "execution_count": 12,
     "metadata": {},
     "output_type": "execute_result"
    }
   ],
   "source": [
    "len(df[\"state\"].unique())"
   ]
  },
  {
   "cell_type": "code",
   "execution_count": null,
   "metadata": {},
   "outputs": [],
   "source": []
  },
  {
   "cell_type": "code",
   "execution_count": 14,
   "metadata": {},
   "outputs": [],
   "source": [
    "engine = create_engine(\"sqlite:///cities_db.sqlite\")\n",
    "\n",
    "# Use `declarative_base` from SQLAlchemy to model the city table as an ORM class\n",
    "# Make sure to specify types for each column\n",
    "# Declare a Base object here\n",
    "Base = declarative_base()"
   ]
  },
  {
   "cell_type": "code",
   "execution_count": 15,
   "metadata": {},
   "outputs": [],
   "source": [
    "# Define the ORM class or `Cities`\n",
    "### BEGIN SOLUTION\n",
    "class Cities(Base):\n",
    "    \n",
    "    __tablename__ = 'cities'\n",
    "\n",
    "    id = Column(Integer, primary_key=True)\n",
    "    city = Column(Text)\n",
    "    state_name = Column(Text)\n",
    "    population = Column(Float)\n",
    "    lat = Column(Float)\n",
    "    lng = Column(Float)\n",
    "    #date = Column(Text)\n",
    "    #avg_edu = Column(Float)\n",
    "    #avg_income_pc = Column(Float)\n",
    "    #total_college_students = Column(Float)\n",
    "    #crime_rate_per_100000 = Column(Float)\n",
    "    \n",
    "    def __repr__(self):\n",
    "        return f\"id={self.id}, name={self.name}\""
   ]
  },
  {
   "cell_type": "code",
   "execution_count": null,
   "metadata": {},
   "outputs": [],
   "source": []
  }
 ],
 "metadata": {
  "kernelspec": {
   "display_name": "Python 3",
   "language": "python",
   "name": "python3"
  },
  "language_info": {
   "codemirror_mode": {
    "name": "ipython",
    "version": 3
   },
   "file_extension": ".py",
   "mimetype": "text/x-python",
   "name": "python",
   "nbconvert_exporter": "python",
   "pygments_lexer": "ipython3",
   "version": "3.7.1"
  }
 },
 "nbformat": 4,
 "nbformat_minor": 2
}
