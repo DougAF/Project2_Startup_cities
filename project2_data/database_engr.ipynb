{
 "cells": [
  {
   "cell_type": "markdown",
   "metadata": {},
   "source": [
    "# Database setup - Project 2\n"
   ]
  },
  {
   "cell_type": "code",
   "execution_count": 2,
   "metadata": {},
   "outputs": [],
   "source": [
    "# Imports\n",
    "import pandas as pd\n",
    "import sqlalchemy\n",
    "from sqlalchemy import create_engine, MetaData\n",
    "from sqlalchemy.ext.declarative import declarative_base\n",
    "from sqlalchemy import Column, Integer, String, Numeric, Text, Float, ForeignKey\n",
    "from sqlalchemy.orm import sessionmaker, relationship\n"
   ]
  },
  {
   "cell_type": "code",
   "execution_count": 3,
   "metadata": {},
   "outputs": [],
   "source": [
    "# Create Engine\n",
    "engine = create_engine(\"sqlite:///p2_cities.sqlite\")\n",
    "\n",
    "# Use `declarative_base` from SQLAlchemy to model the city table as an ORM class\n",
    "# Make sure to specify types for each column\n",
    "# Declare a Base object here\n",
    "Base = declarative_base()\n"
   ]
  },
  {
   "cell_type": "code",
   "execution_count": 4,
   "metadata": {},
   "outputs": [],
   "source": [
    "# Define the ORM class or `Cities`\n",
    "### BEGIN SOLUTION\n",
    "class Cities(Base):\n",
    "    \n",
    "    __tablename__ = 'cities'\n",
    "\n",
    "    id = Column(Integer, primary_key=True)\n",
    "    city = Column(Text)\n",
    "    state_name = Column(Text)\n",
    "    population = Column(Float)\n",
    "    lat = Column(Float)\n",
    "    lng = Column(Float)\n",
    "    #date = Column(Text)\n",
    "    #avg_edu = Column(Float)\n",
    "    #avg_income_pc = Column(Float)\n",
    "    #total_college_students = Column(Float)\n",
    "    #crime_rate_per_100000 = Column(Float)\n",
    "    \n",
    "    def __repr__(self):\n",
    "        return f\"id={self.id}, name={self.name}\""
   ]
  },
  {
   "cell_type": "code",
   "execution_count": 5,
   "metadata": {},
   "outputs": [],
   "source": [
    "#use create all to create the table \n",
    "\n",
    "Base.metadata.create_all(engine)\n"
   ]
  },
  {
   "cell_type": "code",
   "execution_count": 6,
   "metadata": {},
   "outputs": [
    {
     "data": {
      "text/plain": [
       "['cities']"
      ]
     },
     "execution_count": 6,
     "metadata": {},
     "output_type": "execute_result"
    }
   ],
   "source": [
    "# Verify that the table name exists in the database\n",
    "engine.table_names()"
   ]
  },
  {
   "cell_type": "code",
   "execution_count": 7,
   "metadata": {},
   "outputs": [],
   "source": [
    "# Use Pandas to Bulk insert each CSV file into the table\n",
    "def populate_table(engine, table, csvfile):\n",
    "    \"\"\"Populates a table from a Pandas DataFrame.\"\"\"\n",
    "    # connect to the database\n",
    "    conn = engine.connect()\n",
    "    \n",
    "    # Load the CSV file into a pandas dataframe \n",
    "    df_to_insert = pd.read_csv(csvfile)\n",
    "    \n",
    "    # Orient='records' creates a list of data to write\n",
    "    # http://pandas-docs.github.io/pandas-docs-travis/io.html#orient-options\n",
    "    #orient = to columns or records better for our needs?\n",
    "    data = df_to_insert.to_dict(orient='records')\n",
    "\n",
    "    # Optional: Delete all rows in the table \n",
    "    conn.execute(table.delete())#NEEDED OR NOT?\n",
    "\n",
    "    # Insert the dataframe into the database in one bulk insert\n",
    "    conn.execute(table.insert(), data)\n",
    "    \n",
    "# Call the function to insert the data for each table\n",
    "populate_table(engine, Cities.__table__, 'cities.csv')\n"
   ]
  },
  {
   "cell_type": "code",
   "execution_count": 8,
   "metadata": {},
   "outputs": [
    {
     "data": {
      "text/plain": [
       "[(1840034016, 'New York', 'New York', 19354922.0, 40.6943, -73.9249)]"
      ]
     },
     "execution_count": 8,
     "metadata": {},
     "output_type": "execute_result"
    }
   ],
   "source": [
    "# Use a basic query to validate that the data was inserted correctly for table 'cities'\n",
    "\n",
    "engine.execute(\"SELECT * FROM cities WHERE population > 100000 ORDER BY population DESC LIMIT 1\").fetchall()"
   ]
  },
  {
   "cell_type": "code",
   "execution_count": 9,
   "metadata": {},
   "outputs": [],
   "source": [
    "#This CSV is serving as our dummy DATA"
   ]
  },
  {
   "cell_type": "code",
   "execution_count": 10,
   "metadata": {},
   "outputs": [],
   "source": [
    "df = pd.DataFrame(engine.execute(\"SELECT * FROM cities ORDER BY population DESC LIMIT 100\").fetchall())"
   ]
  },
  {
   "cell_type": "code",
   "execution_count": 11,
   "metadata": {},
   "outputs": [],
   "source": [
    "df.columns = [\"id\", \"city_name\", \"state\", \"pop\",\"lat\", \"lng\"] \n"
   ]
  },
  {
   "cell_type": "code",
   "execution_count": 12,
   "metadata": {},
   "outputs": [
    {
     "data": {
      "text/plain": [
       "38"
      ]
     },
     "execution_count": 12,
     "metadata": {},
     "output_type": "execute_result"
    }
   ],
   "source": [
    "len(df[\"state\"].unique())"
   ]
  },
  {
   "cell_type": "code",
   "execution_count": null,
   "metadata": {},
   "outputs": [],
   "source": []
  },
  {
   "cell_type": "code",
   "execution_count": 14,
   "metadata": {},
   "outputs": [],
   "source": [
    "engine = create_engine(\"sqlite:///cities_db.sqlite\")\n",
    "\n",
    "# Use `declarative_base` from SQLAlchemy to model the city table as an ORM class\n",
    "# Make sure to specify types for each column\n",
    "# Declare a Base object here\n",
    "Base = declarative_base()"
   ]
  },
  {
   "cell_type": "code",
   "execution_count": 15,
   "metadata": {},
   "outputs": [],
   "source": [
    "# Define the ORM class or `Cities`\n",
    "### BEGIN SOLUTION\n",
    "class Cities(Base):\n",
    "    \n",
    "    __tablename__ = 'cities'\n",
    "\n",
    "    id = Column(Integer, primary_key=True)\n",
    "    city = Column(Text)\n",
    "    state_name = Column(Text)\n",
    "    population = Column(Float)\n",
    "    lat = Column(Float)\n",
    "    lng = Column(Float)\n",
    "    #date = Column(Text)\n",
    "    #avg_edu = Column(Float)\n",
    "    #avg_income_pc = Column(Float)\n",
    "    #total_college_students = Column(Float)\n",
    "    #crime_rate_per_100000 = Column(Float)\n",
    "    \n",
    "    def __repr__(self):\n",
    "        return f\"id={self.id}, name={self.name}\""
   ]
  },
  {
   "cell_type": "code",
   "execution_count": 16,
   "metadata": {},
   "outputs": [],
   "source": [
    "Base.metadata.create_all(engine)"
   ]
  },
  {
   "cell_type": "code",
   "execution_count": 17,
   "metadata": {},
   "outputs": [
    {
     "data": {
      "text/plain": [
       "['cities']"
      ]
     },
     "execution_count": 17,
     "metadata": {},
     "output_type": "execute_result"
    }
   ],
   "source": [
    "# Verify that the table name exists in the database\n",
    "engine.table_names()"
   ]
  },
  {
   "cell_type": "code",
   "execution_count": 18,
   "metadata": {},
   "outputs": [],
   "source": [
    "# Use Pandas to Bulk insert each CSV file into the table\n",
    "def populate_table(engine, table, csvfile):\n",
    "    \"\"\"Populates a table from a Pandas DataFrame.\"\"\"\n",
    "    # connect to the database\n",
    "    conn = engine.connect()\n",
    "    \n",
    "    # Load the CSV file into a pandas dataframe \n",
    "    df_to_insert = pd.read_csv(csvfile)\n",
    "    \n",
    "    # Orient='records' creates a list of data to write\n",
    "    # http://pandas-docs.github.io/pandas-docs-travis/io.html#orient-options\n",
    "    #orient = to columns or records better for our needs?\n",
    "    data = df_to_insert.to_dict(orient='records')\n",
    "\n",
    "    # Optional: Delete all rows in the table \n",
    "    conn.execute(table.delete())#NEEDED OR NOT?\n",
    "\n",
    "    # Insert the dataframe into the database in one bulk insert\n",
    "    conn.execute(table.insert(), data)\n",
    "    \n",
    "# Call the function to insert the data for each table\n",
    "populate_table(engine, Cities.__table__, 'main.csv')"
   ]
  },
  {
   "cell_type": "code",
   "execution_count": 20,
   "metadata": {},
   "outputs": [
    {
     "data": {
      "text/html": [
       "<div>\n",
       "<style scoped>\n",
       "    .dataframe tbody tr th:only-of-type {\n",
       "        vertical-align: middle;\n",
       "    }\n",
       "\n",
       "    .dataframe tbody tr th {\n",
       "        vertical-align: top;\n",
       "    }\n",
       "\n",
       "    .dataframe thead th {\n",
       "        text-align: right;\n",
       "    }\n",
       "</style>\n",
       "<table border=\"1\" class=\"dataframe\">\n",
       "  <thead>\n",
       "    <tr style=\"text-align: right;\">\n",
       "      <th></th>\n",
       "      <th>Id2</th>\n",
       "      <th>Geography</th>\n",
       "      <th>Travel time to work (min)</th>\n",
       "      <th>Median Income</th>\n",
       "      <th>Percent bachelor's degree or higher</th>\n",
       "      <th>Establishments 2011</th>\n",
       "      <th>Establishments 2016</th>\n",
       "      <th>Pop: 2011</th>\n",
       "      <th>Pop: 2016</th>\n",
       "      <th>% Change</th>\n",
       "      <th>LAT</th>\n",
       "      <th>LON</th>\n",
       "      <th>city</th>\n",
       "      <th>state</th>\n",
       "    </tr>\n",
       "  </thead>\n",
       "  <tbody>\n",
       "    <tr>\n",
       "      <th>0</th>\n",
       "      <td>10180</td>\n",
       "      <td>Abilene, TX</td>\n",
       "      <td>1313825</td>\n",
       "      <td>48016</td>\n",
       "      <td>20.4</td>\n",
       "      <td>3844.0</td>\n",
       "      <td>3950.0</td>\n",
       "      <td>165858.0</td>\n",
       "      <td>170860.0</td>\n",
       "      <td>-0.250727</td>\n",
       "      <td>32.448736</td>\n",
       "      <td>-99.733144</td>\n",
       "      <td>Abilene</td>\n",
       "      <td>TX</td>\n",
       "    </tr>\n",
       "    <tr>\n",
       "      <th>1</th>\n",
       "      <td>10420</td>\n",
       "      <td>Akron, OH</td>\n",
       "      <td>7359250</td>\n",
       "      <td>51598</td>\n",
       "      <td>31.0</td>\n",
       "      <td>16402.0</td>\n",
       "      <td>16390.0</td>\n",
       "      <td>701456.0</td>\n",
       "      <td>702221.0</td>\n",
       "      <td>-0.182022</td>\n",
       "      <td>41.081445</td>\n",
       "      <td>-81.519005</td>\n",
       "      <td>Akron</td>\n",
       "      <td>OH</td>\n",
       "    </tr>\n",
       "    <tr>\n",
       "      <th>2</th>\n",
       "      <td>10500</td>\n",
       "      <td>Albany, GA</td>\n",
       "      <td>1215320</td>\n",
       "      <td>40667</td>\n",
       "      <td>18.6</td>\n",
       "      <td>3242.0</td>\n",
       "      <td>3123.0</td>\n",
       "      <td>161617.0</td>\n",
       "      <td>152506.0</td>\n",
       "      <td>2.084330</td>\n",
       "      <td>31.578507</td>\n",
       "      <td>-84.155741</td>\n",
       "      <td>Albany</td>\n",
       "      <td>GA</td>\n",
       "    </tr>\n",
       "    <tr>\n",
       "      <th>3</th>\n",
       "      <td>10580</td>\n",
       "      <td>Albany-Schenectady-Troy, NY</td>\n",
       "      <td>9953675</td>\n",
       "      <td>65855</td>\n",
       "      <td>37.4</td>\n",
       "      <td>21027.0</td>\n",
       "      <td>21444.0</td>\n",
       "      <td>871478.0</td>\n",
       "      <td>881839.0</td>\n",
       "      <td>0.784933</td>\n",
       "      <td>42.763648</td>\n",
       "      <td>-73.653621</td>\n",
       "      <td>Albany-Schenectady-Troy</td>\n",
       "      <td>NY</td>\n",
       "    </tr>\n",
       "    <tr>\n",
       "      <th>4</th>\n",
       "      <td>10740</td>\n",
       "      <td>Albuquerque, NM</td>\n",
       "      <td>9286780</td>\n",
       "      <td>50954</td>\n",
       "      <td>31.8</td>\n",
       "      <td>18466.0</td>\n",
       "      <td>18645.0</td>\n",
       "      <td>899149.0</td>\n",
       "      <td>913924.0</td>\n",
       "      <td>-0.662977</td>\n",
       "      <td>35.084386</td>\n",
       "      <td>-106.650422</td>\n",
       "      <td>Albuquerque</td>\n",
       "      <td>NM</td>\n",
       "    </tr>\n",
       "  </tbody>\n",
       "</table>\n",
       "</div>"
      ],
      "text/plain": [
       "     Id2                    Geography  Travel time to work (min)  \\\n",
       "0  10180                  Abilene, TX                    1313825   \n",
       "1  10420                    Akron, OH                    7359250   \n",
       "2  10500                   Albany, GA                    1215320   \n",
       "3  10580  Albany-Schenectady-Troy, NY                    9953675   \n",
       "4  10740              Albuquerque, NM                    9286780   \n",
       "\n",
       "   Median Income  Percent bachelor's degree or higher  Establishments 2011  \\\n",
       "0          48016                                 20.4               3844.0   \n",
       "1          51598                                 31.0              16402.0   \n",
       "2          40667                                 18.6               3242.0   \n",
       "3          65855                                 37.4              21027.0   \n",
       "4          50954                                 31.8              18466.0   \n",
       "\n",
       "   Establishments 2016  Pop: 2011  Pop: 2016  % Change        LAT         LON  \\\n",
       "0               3950.0   165858.0   170860.0 -0.250727  32.448736  -99.733144   \n",
       "1              16390.0   701456.0   702221.0 -0.182022  41.081445  -81.519005   \n",
       "2               3123.0   161617.0   152506.0  2.084330  31.578507  -84.155741   \n",
       "3              21444.0   871478.0   881839.0  0.784933  42.763648  -73.653621   \n",
       "4              18645.0   899149.0   913924.0 -0.662977  35.084386 -106.650422   \n",
       "\n",
       "                      city state  \n",
       "0                  Abilene    TX  \n",
       "1                    Akron    OH  \n",
       "2                   Albany    GA  \n",
       "3  Albany-Schenectady-Troy    NY  \n",
       "4              Albuquerque    NM  "
      ]
     },
     "execution_count": 20,
     "metadata": {},
     "output_type": "execute_result"
    }
   ],
   "source": [
    "df = pd.read_csv(\"main.csv\")\n",
    "df.head()\n"
   ]
  },
  {
   "cell_type": "code",
   "execution_count": null,
   "metadata": {},
   "outputs": [],
   "source": []
  }
 ],
 "metadata": {
  "kernelspec": {
   "display_name": "Python 3",
   "language": "python",
   "name": "python3"
  },
  "language_info": {
   "codemirror_mode": {
    "name": "ipython",
    "version": 3
   },
   "file_extension": ".py",
   "mimetype": "text/x-python",
   "name": "python",
   "nbconvert_exporter": "python",
   "pygments_lexer": "ipython3",
   "version": "3.7.1"
  }
 },
 "nbformat": 4,
 "nbformat_minor": 2
}
