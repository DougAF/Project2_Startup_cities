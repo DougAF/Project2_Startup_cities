{
 "cells": [
  {
   "cell_type": "markdown",
   "metadata": {},
   "source": [
    "# Data manupulation Govt And Tax codes"
   ]
  },
  {
   "cell_type": "markdown",
   "metadata": {},
   "source": [
    "For the third year in a row, we found that service professionals valued three things above all others in their local government: a licensing system that is simple and makes compliance easy; a tax system that has clear rules and is easy to understand; and training and networking programs that help service professionals get their businesses up and running, comply with the local rules, and meet other professionals in their industries."
   ]
  },
  {
   "cell_type": "code",
   "execution_count": 5,
   "metadata": {},
   "outputs": [],
   "source": [
    "import pandas as pd"
   ]
  },
  {
   "cell_type": "code",
   "execution_count": 6,
   "metadata": {},
   "outputs": [],
   "source": [
    "url = \"https://taxfoundation.org/publications/state-business-tax-climate-index/\""
   ]
  },
  {
   "cell_type": "code",
   "execution_count": 7,
   "metadata": {},
   "outputs": [],
   "source": [
    "scrape = pd.read_html(url)"
   ]
  },
  {
   "cell_type": "code",
   "execution_count": 9,
   "metadata": {},
   "outputs": [],
   "source": [
    "df = scrape[0]"
   ]
  },
  {
   "cell_type": "code",
   "execution_count": 14,
   "metadata": {},
   "outputs": [
    {
     "data": {
      "text/html": [
       "<div>\n",
       "<style scoped>\n",
       "    .dataframe tbody tr th:only-of-type {\n",
       "        vertical-align: middle;\n",
       "    }\n",
       "\n",
       "    .dataframe tbody tr th {\n",
       "        vertical-align: top;\n",
       "    }\n",
       "\n",
       "    .dataframe thead th {\n",
       "        text-align: right;\n",
       "    }\n",
       "</style>\n",
       "<table border=\"1\" class=\"dataframe\">\n",
       "  <thead>\n",
       "    <tr style=\"text-align: right;\">\n",
       "      <th></th>\n",
       "      <th>Unnamed: 0</th>\n",
       "      <th>Overall Rank</th>\n",
       "      <th>Corporate Tax Rank</th>\n",
       "      <th>Individual Income Tax Rank</th>\n",
       "      <th>Sales Tax Rank</th>\n",
       "      <th>Property Tax Rank</th>\n",
       "      <th>Unemployment Insurance Tax Rank</th>\n",
       "    </tr>\n",
       "  </thead>\n",
       "  <tbody>\n",
       "    <tr>\n",
       "      <th>0</th>\n",
       "      <td>Alabama</td>\n",
       "      <td>39</td>\n",
       "      <td>20</td>\n",
       "      <td>30</td>\n",
       "      <td>48.0</td>\n",
       "      <td>15.0</td>\n",
       "      <td>12.0</td>\n",
       "    </tr>\n",
       "    <tr>\n",
       "      <th>1</th>\n",
       "      <td>Alaska</td>\n",
       "      <td>2</td>\n",
       "      <td>25</td>\n",
       "      <td>1</td>\n",
       "      <td>5.0</td>\n",
       "      <td>23.0</td>\n",
       "      <td>35.0</td>\n",
       "    </tr>\n",
       "    <tr>\n",
       "      <th>2</th>\n",
       "      <td>Arizona</td>\n",
       "      <td>27</td>\n",
       "      <td>17</td>\n",
       "      <td>19</td>\n",
       "      <td>47.0</td>\n",
       "      <td>5.0</td>\n",
       "      <td>13.0</td>\n",
       "    </tr>\n",
       "    <tr>\n",
       "      <th>3</th>\n",
       "      <td>Arkansas</td>\n",
       "      <td>46</td>\n",
       "      <td>40</td>\n",
       "      <td>40</td>\n",
       "      <td>44.0</td>\n",
       "      <td>26.0</td>\n",
       "      <td>34.0</td>\n",
       "    </tr>\n",
       "    <tr>\n",
       "      <th>4</th>\n",
       "      <td>California</td>\n",
       "      <td>49</td>\n",
       "      <td>31</td>\n",
       "      <td>49</td>\n",
       "      <td>43.0</td>\n",
       "      <td>14.0</td>\n",
       "      <td>17.0</td>\n",
       "    </tr>\n",
       "  </tbody>\n",
       "</table>\n",
       "</div>"
      ],
      "text/plain": [
       "   Unnamed: 0 Overall Rank Corporate Tax Rank Individual Income Tax Rank  \\\n",
       "0     Alabama           39                 20                         30   \n",
       "1      Alaska            2                 25                          1   \n",
       "2     Arizona           27                 17                         19   \n",
       "3    Arkansas           46                 40                         40   \n",
       "4  California           49                 31                         49   \n",
       "\n",
       "   Sales Tax Rank  Property Tax Rank  Unemployment Insurance Tax Rank  \n",
       "0            48.0               15.0                             12.0  \n",
       "1             5.0               23.0                             35.0  \n",
       "2            47.0                5.0                             13.0  \n",
       "3            44.0               26.0                             34.0  \n",
       "4            43.0               14.0                             17.0  "
      ]
     },
     "execution_count": 14,
     "metadata": {},
     "output_type": "execute_result"
    }
   ],
   "source": [
    "df.head()"
   ]
  },
  {
   "cell_type": "markdown",
   "metadata": {},
   "source": [
    "The Kauffman Foundation’s Index of Entrepreneurial Activity shows that entrepreneurship can be a safe harbor for cities during difficult economic periods – as individuals lose their jobs during economic downturns, entrepreneurship tends to rise as they turn towards self-employment to keep their skills up or help pay the bills, and it declines again as the labor market recovers. This suggests that cities that create the right environment for entrepreneurs will be better positioned to weather challenging economic periods. Listening directly to entrepreneurs as the Thumbtack survey does can help cities understand which policies are making them small business friendly and which are keeping small business at bay."
   ]
  },
  {
   "cell_type": "code",
   "execution_count": null,
   "metadata": {},
   "outputs": [],
   "source": []
  }
 ],
 "metadata": {
  "kernelspec": {
   "display_name": "PythonData",
   "language": "python",
   "name": "pythondata"
  },
  "language_info": {
   "codemirror_mode": {
    "name": "ipython",
    "version": 3
   },
   "file_extension": ".py",
   "mimetype": "text/x-python",
   "name": "python",
   "nbconvert_exporter": "python",
   "pygments_lexer": "ipython3",
   "version": "3.6.7"
  }
 },
 "nbformat": 4,
 "nbformat_minor": 2
}
