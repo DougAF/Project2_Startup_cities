{
 "cells": [
  {
   "cell_type": "markdown",
   "metadata": {},
   "source": [
    "# Database setup - Project 2\n"
   ]
  },
  {
   "cell_type": "code",
   "execution_count": 1,
   "metadata": {},
   "outputs": [],
   "source": [
    "# Imports\n",
    "import pandas as pd\n",
    "import sqlalchemy\n",
    "from sqlalchemy import create_engine, MetaData\n",
    "from sqlalchemy.ext.declarative import declarative_base\n",
    "from sqlalchemy import Column, Integer, String, Numeric, Text, Float, ForeignKey\n",
    "from sqlalchemy.orm import sessionmaker, relationship\n"
   ]
  },
  {
   "cell_type": "code",
   "execution_count": 2,
   "metadata": {},
   "outputs": [],
   "source": [
    "# Create Engine\n",
    "engine = create_engine(\"sqlite:///p2_cities.sqlite\")\n",
    "\n",
    "# Use `declarative_base` from SQLAlchemy to model the city table as an ORM class\n",
    "# Make sure to specify types for each column\n",
    "# Declare a Base object here\n",
    "Base = declarative_base()\n"
   ]
  },
  {
   "cell_type": "code",
   "execution_count": 3,
   "metadata": {},
   "outputs": [],
   "source": [
    "# Define the ORM class or `Cities`\n",
    "### BEGIN SOLUTION\n",
    "class Cities(Base):\n",
    "    \n",
    "    __tablename__ = 'cities'\n",
    "\n",
    "    id = Column(Integer, primary_key=True)\n",
    "    city = Column(Text)\n",
    "    state_id = Column(Text)\n",
    "    population = Column(Float)\n",
    "    lat = Column(Float)\n",
    "    lng = Column(Float)\n",
    "    #date = Column(Text)\n",
    "    #avg_edu = Column(Float)\n",
    "    #avg_income_pc = Column(Float)\n",
    "    #total_college_students = Column(Float)\n",
    "    #crime_rate_per_100000 = Column(Float)\n",
    "    \n",
    "    def __repr__(self):\n",
    "        return f\"id={self.id}, name={self.name}\""
   ]
  },
  {
   "cell_type": "code",
   "execution_count": 4,
   "metadata": {},
   "outputs": [],
   "source": [
    "#use create all to create the table \n",
    "\n",
    "Base.metadata.create_all(engine)\n"
   ]
  },
  {
   "cell_type": "code",
   "execution_count": 5,
   "metadata": {},
   "outputs": [
    {
     "data": {
      "text/plain": [
       "['cities']"
      ]
     },
     "execution_count": 5,
     "metadata": {},
     "output_type": "execute_result"
    }
   ],
   "source": [
    "# Verify that the table name exists in the database\n",
    "engine.table_names()"
   ]
  },
  {
   "cell_type": "code",
   "execution_count": 6,
   "metadata": {},
   "outputs": [],
   "source": [
    "# Use Pandas to Bulk insert each CSV file into the table\n",
    "def populate_table(engine, table, csvfile):\n",
    "    \"\"\"Populates a table from a Pandas DataFrame.\"\"\"\n",
    "    # connect to the database\n",
    "    conn = engine.connect()\n",
    "    \n",
    "    # Load the CSV file into a pandas dataframe \n",
    "    df_to_insert = pd.read_csv(csvfile)\n",
    "    \n",
    "    # Orient='records' creates a list of data to write\n",
    "    # http://pandas-docs.github.io/pandas-docs-travis/io.html#orient-options\n",
    "    #orient = to columns or records better for our needs?\n",
    "    data = df_to_insert.to_dict(orient='records')\n",
    "\n",
    "    # Optional: Delete all rows in the table \n",
    "    conn.execute(table.delete())#NEEDED OR NOT?\n",
    "\n",
    "    # Insert the dataframe into the database in one bulk insert\n",
    "    conn.execute(table.insert(), data)\n",
    "    \n",
    "# Call the function to insert the data for each table\n",
    "populate_table(engine, Cities.__table__, 'cities.csv')\n"
   ]
  },
  {
   "cell_type": "code",
   "execution_count": 10,
   "metadata": {},
   "outputs": [
    {
     "data": {
      "text/plain": [
       "[(1840000177, 'Fargo', 'ND', 204820.0),\n",
       " (1840000327, 'Portland', 'ME', 206023.0),\n",
       " (1840000373, 'Rochester', 'NY', 711998.0),\n",
       " (1840000378, 'Syracuse', 'NY', 407259.0),\n",
       " (1840000386, 'Buffalo', 'NY', 926261.0),\n",
       " (1840000417, 'Albany', 'NY', 597270.0),\n",
       " (1840000426, 'Lowell', 'MA', 111346.0),\n",
       " (1840000429, 'Cambridge', 'MA', 113630.0),\n",
       " (1840000434, 'Worcester', 'MA', 498997.0),\n",
       " (1840000437, 'Leominster', 'MA', 119400.0),\n",
       " (1840000440, 'Waterloo', 'IA', 112060.0),\n",
       " (1840000447, 'Sioux City', 'IA', 106279.0),\n",
       " (1840000455, 'Boston', 'MA', 4637537.0),\n",
       " (1840000460, 'Binghamton', 'NY', 150747.0),\n",
       " (1840000466, 'Springfield', 'MA', 628076.0),\n",
       " (1840000471, 'Cedar Rapids', 'IA', 186160.0),\n",
       " (1840000478, 'Erie', 'PA', 188079.0),\n",
       " (1840000494, 'Chicago', 'IL', 8675982.0),\n",
       " (1840000500, 'Poughkeepsie', 'NY', 396041.0),\n",
       " (1840000532, 'Iowa City', 'IA', 119091.0),\n",
       " (1840000572, 'Toledo', 'OH', 488672.0),\n",
       " (1840000596, 'Cleveland', 'OH', 1730363.0),\n",
       " (1840000644, 'Lorain', 'OH', 180239.0),\n",
       " (1840000673, 'Philadelphia', 'PA', 5637884.0),\n",
       " (1840000791, 'Akron', 'OH', 565920.0),\n",
       " (1840000838, 'Paterson', 'NJ', 148678.0),\n",
       " (1840000963, 'Canton', 'OH', 271184.0),\n",
       " (1840001044, 'Allentown', 'PA', 682899.0),\n",
       " (1840001185, 'Reading', 'PA', 267300.0),\n",
       " (1840001254, 'Pittsburgh', 'PA', 1715297.0),\n",
       " (1840001288, 'Harrisburg', 'PA', 441580.0),\n",
       " (1840001373, 'Pottstown', 'PA', 109437.0),\n",
       " (1840001383, 'Trenton', 'NJ', 296869.0),\n",
       " (1840001472, 'York', 'PA', 234245.0),\n",
       " (1840001592, 'Baltimore', 'MD', 2170504.0),\n",
       " (1840001621, 'Topeka', 'KS', 148960.0),\n",
       " (1840001626, 'Kansas City', 'KS', 152938.0),\n",
       " (1840001651, 'Saint Louis', 'MO', 2078283.0),\n",
       " (1840001678, 'Charlottesville', 'VA', 102016.0),\n",
       " (1840001686, 'Wichita', 'KS', 483057.0),\n",
       " (1840001698, 'Richmond', 'VA', 1059907.0),\n",
       " (1840001839, 'New Orleans', 'LA', 1029123.0),\n",
       " (1840002296, 'Eau Claire', 'WI', 107068.0),\n",
       " (1840002310, 'Burlington', 'VT', 108277.0),\n",
       " (1840002344, 'Green Bay', 'WI', 208625.0),\n",
       " (1840002400, 'Appleton', 'WI', 222222.0),\n",
       " (1840002418, 'Warren', 'MI', 135022.0),\n",
       " (1840002432, 'South Lyon', 'MI', 123850.0),\n",
       " (1840002493, 'Racine', 'WI', 131467.0),\n",
       " (1840002577, 'La Crosse', 'WI', 101886.0),\n",
       " (1840002648, 'Sioux Falls', 'SD', 180204.0),\n",
       " (1840002746, 'Utica', 'NY', 114318.0),\n",
       " (1840002791, 'Newark', 'NJ', 285154.0),\n",
       " (1840002813, 'Saginaw', 'MI', 119336.0),\n",
       " (1840002870, 'Muskegon', 'MI', 160142.0),\n",
       " (1840002915, 'Madison', 'WI', 439553.0),\n",
       " (1840002928, 'Grand Rapids', 'MI', 602694.0),\n",
       " (1840002949, 'Flint', 'MI', 335354.0),\n",
       " (1840002983, 'Manchester', 'NH', 160742.0),\n",
       " (1840002984, 'Nashua', 'NH', 231262.0),\n",
       " (1840002996, 'Holland', 'MI', 100885.0),\n",
       " (1840003046, 'Milwaukee', 'WI', 1377808.0),\n",
       " (1840003094, 'Sterling Heights', 'MI', 132631.0),\n",
       " (1840003102, 'Lansing', 'MI', 320928.0),\n",
       " (1840003160, 'Kenosha', 'WI', 124888.0),\n",
       " (1840003172, 'Ann Arbor', 'MI', 326288.0),\n",
       " (1840003185, 'Kalamazoo', 'MI', 214083.0),\n",
       " (1840003219, 'New Bedford', 'MA', 149528.0),\n",
       " (1840003289, 'Providence', 'RI', 1206642.0),\n",
       " (1840003389, 'Scranton', 'PA', 389022.0),\n",
       " (1840003478, 'Yonkers', 'NY', 202019.0),\n",
       " (1840003563, 'Youngstown', 'OH', 373728.0),\n",
       " (1840003600, 'Jersey City', 'NJ', 270753.0),\n",
       " (1840003613, 'Elizabeth', 'NJ', 130215.0),\n",
       " (1840003718, 'Lancaster', 'PA', 404525.0),\n",
       " (1840003760, 'Columbus', 'OH', 1528314.0),\n",
       " (1840003798, 'Atlantic City', 'NJ', 241363.0),\n",
       " (1840003814, 'Cincinnati', 'OH', 1648254.0),\n",
       " (1840003833, 'Olathe', 'KS', 137472.0),\n",
       " (1840003834, 'Overland Park', 'KS', 191278.0),\n",
       " (1840003837, 'Alexandria', 'VA', 160035.0),\n",
       " (1840003845, 'Fredericksburg', 'VA', 164976.0),\n",
       " (1840003855, 'Lynchburg', 'VA', 125004.0),\n",
       " (1840003858, 'Roanoke', 'VA', 216177.0),\n",
       " (1840003862, 'Newport News', 'VA', 179388.0),\n",
       " (1840003866, 'Hampton', 'VA', 134669.0),\n",
       " (1840003869, 'Norfolk', 'VA', 244703.0),\n",
       " (1840003871, 'Virginia Beach', 'VA', 1480383.0),\n",
       " (1840003874, 'Chesapeake', 'VA', 240397.0),\n",
       " (1840003971, 'Detroit', 'MI', 3522206.0),\n",
       " (1840004773, 'Hartford', 'CT', 914751.0),\n",
       " (1840004828, 'Norwich', 'CT', 203916.0),\n",
       " (1840004836, 'Bridgeport', 'CT', 938406.0),\n",
       " (1840004837, 'Danbury', 'CT', 177177.0),\n",
       " (1840004841, 'Stamford', 'CT', 130824.0),\n",
       " (1840004850, 'New Haven', 'CT', 568144.0),\n",
       " (1840004851, 'Waterbury', 'CT', 191484.0),\n",
       " (1840005061, 'Huntsville', 'AL', 309716.0),\n",
       " (1840005563, 'Tuscaloosa', 'AL', 154204.0),\n",
       " (1840005613, 'Hagerstown', 'MD', 185704.0)]"
      ]
     },
     "execution_count": 10,
     "metadata": {},
     "output_type": "execute_result"
    }
   ],
   "source": [
    "# Use a basic query to validate that the data was inserted correctly for table 'cities'\n",
    "\n",
    "engine.execute(\"SELECT * FROM cities WHERE population > 100000 LIMIT 100\").fetchall()"
   ]
  },
  {
   "cell_type": "code",
   "execution_count": null,
   "metadata": {},
   "outputs": [],
   "source": [
    "#This CSV is serving as our dummy DATA"
   ]
  }
 ],
 "metadata": {
  "kernelspec": {
   "display_name": "Python 3",
   "language": "python",
   "name": "python3"
  },
  "language_info": {
   "codemirror_mode": {
    "name": "ipython",
    "version": 3
   },
   "file_extension": ".py",
   "mimetype": "text/x-python",
   "name": "python",
   "nbconvert_exporter": "python",
   "pygments_lexer": "ipython3",
   "version": "3.6.7"
  }
 },
 "nbformat": 4,
 "nbformat_minor": 2
}
